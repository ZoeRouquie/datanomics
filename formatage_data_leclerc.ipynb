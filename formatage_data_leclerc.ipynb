{
 "cells": [
  {
   "cell_type": "code",
   "execution_count": 9,
   "metadata": {},
   "outputs": [
    {
     "name": "stdout",
     "output_type": "stream",
     "text": [
      "Fichier nettoyé et enregistré sous: LECLERC_cleaned.csv\n"
     ]
    }
   ],
   "source": [
    "#1) supprimer les tirets et la reprtition de l'intitulé des variables\n",
    "\n",
    "input_file = \"LECLERC.csv\"\n",
    "output_file = \"LECLERC_cleaned.csv\"\n",
    "\n",
    "with open(input_file, \"r\", encoding=\"utf-8\") as f_in:\n",
    "    lines = f_in.readlines()\n",
    "\n",
    "cleaned_lines = []\n",
    "header_encountered = False\n",
    "\n",
    "for line in lines:\n",
    "    # Suppression des lignes composées uniquement de tirets\n",
    "    if line.strip().startswith('-'):\n",
    "        continue\n",
    "\n",
    "    # Suppression des répétitions d'en-tête (c-à-d. \"Platform,Product Name,...\") \n",
    "    # une fois qu'on l'a déjà rencontrée\n",
    "    if line.startswith(\"Platform\") and header_encountered:\n",
    "        continue\n",
    "    elif line.startswith(\"Platform\"):\n",
    "        header_encountered = True\n",
    "\n",
    "    cleaned_lines.append(line)\n",
    "\n",
    "with open(output_file, \"w\", encoding=\"utf-8\") as f_out:\n",
    "    f_out.writelines(cleaned_lines)\n",
    "\n",
    "print(\"Fichier nettoyé et enregistré sous:\", output_file)\n",
    "\n"
   ]
  },
  {
   "cell_type": "code",
   "execution_count": 10,
   "metadata": {},
   "outputs": [],
   "source": [
    "import pandas as pd\n",
    "\n",
    "df = pd.read_csv('LECLERC_cleaned.csv')\n",
    "df['Price'] = (df['Price']\n",
    "               .str.replace(' €', '', regex=False)  # Supprime ' €'\n",
    "               .str.replace(',', '.', regex=False)  # Remplace ',' par '.'\n",
    "               .astype(float))                      # Convertit en float\n",
    "\n"
   ]
  },
  {
   "cell_type": "code",
   "execution_count": 11,
   "metadata": {},
   "outputs": [],
   "source": [
    "from uuid import uuid4\n",
    "\n",
    "#je rajoute un id pour chaque groupe product name-seller différent\n",
    "def generate_uuid():\n",
    "    return str(uuid4())\n",
    "\n",
    "# Créer un dictionnaire de correspondance pour chaque combinaison unique\n",
    "# On utilise groupby pour obtenir les groupes distincts et on attribue à chacun un UUID\n",
    "group_mapping = {\n",
    "    (row['Product Name'], row['Seller']): generate_uuid()\n",
    "    for _, row in df[['Product Name', 'Seller']].drop_duplicates().iterrows()\n",
    "}\n",
    "\n",
    "# Ajouter une nouvelle colonne en mappant chaque ligne avec le UUID correspondant\n",
    "df['ID'] = df.apply(lambda row: group_mapping[(row['Product Name'], row['Seller'])], axis=1)\n"
   ]
  },
  {
   "cell_type": "code",
   "execution_count": 12,
   "metadata": {},
   "outputs": [],
   "source": [
    "# Écriture du DataFrame nettoyé dans un nouveau fichier CSV\n",
    "df.to_csv(output_file, index=False)"
   ]
  }
 ],
 "metadata": {
  "kernelspec": {
   "display_name": "Python 3",
   "language": "python",
   "name": "python3"
  },
  "language_info": {
   "codemirror_mode": {
    "name": "ipython",
    "version": 3
   },
   "file_extension": ".py",
   "mimetype": "text/x-python",
   "name": "python",
   "nbconvert_exporter": "python",
   "pygments_lexer": "ipython3",
   "version": "3.13.0"
  }
 },
 "nbformat": 4,
 "nbformat_minor": 2
}
